{
 "cells": [
  {
   "cell_type": "code",
   "execution_count": 1,
   "id": "proof-pencil",
   "metadata": {},
   "outputs": [],
   "source": [
    "import warnings\n",
    "\n",
    "from opticalglass.glass import get_filepath\n",
    "\n",
    "import opticalglass as og\n",
    "import opticalglass.buchdahl as buchdahl\n",
    "import opticalglass.glass as ogl\n",
    "from opticalglass.glassfactory import create_glass\n",
    "from opticalglass import cdgm\n",
    "\n",
    "import numpy as np\n",
    "import pandas as pd\n",
    "import matplotlib.pyplot as plt"
   ]
  },
  {
   "cell_type": "markdown",
   "id": "armed-danger",
   "metadata": {},
   "source": [
    "# Build Multi-Index for CDGM"
   ]
  },
  {
   "cell_type": "code",
   "execution_count": 2,
   "id": "lyric-physics",
   "metadata": {},
   "outputs": [],
   "source": [
    "catalog = 'CDGM'\n",
    "gname4 = 'H-K5'\n",
    "gname3 = 'H-FK61'\n",
    "gname1 = 'H-K9L'\n",
    "gname2 = 'D-ZLaF85L'\n",
    "gname = 'H-ZF11'"
   ]
  },
  {
   "cell_type": "code",
   "execution_count": 3,
   "id": "valid-introduction",
   "metadata": {},
   "outputs": [],
   "source": [
    "cat_pd = cdgm.CDGMCatalog(\"CDGM202409.xlsx\")\n",
    "cat_df = cat_pd.df"
   ]
  },
  {
   "cell_type": "code",
   "execution_count": 4,
   "id": "acoustic-active",
   "metadata": {
    "tags": []
   },
   "outputs": [
    {
     "data": {
      "text/html": [
       "<div>\n",
       "<style scoped>\n",
       "    .dataframe tbody tr th:only-of-type {\n",
       "        vertical-align: middle;\n",
       "    }\n",
       "\n",
       "    .dataframe tbody tr th {\n",
       "        vertical-align: top;\n",
       "    }\n",
       "\n",
       "    .dataframe thead th {\n",
       "        text-align: right;\n",
       "    }\n",
       "</style>\n",
       "<table border=\"1\" class=\"dataframe\">\n",
       "  <thead>\n",
       "    <tr style=\"text-align: right;\">\n",
       "      <th></th>\n",
       "      <th>glass</th>\n",
       "      <th>H-FK55</th>\n",
       "      <th>H-FK61</th>\n",
       "      <th>H-FK61B</th>\n",
       "      <th>H-FK71</th>\n",
       "      <th>H-FK95N</th>\n",
       "      <th>H-QK1</th>\n",
       "      <th>H-QK3L</th>\n",
       "      <th>H-K1</th>\n",
       "      <th>H-K2</th>\n",
       "      <th>H-K3</th>\n",
       "      <th>...</th>\n",
       "      <th>D-ZLaF81</th>\n",
       "      <th>D-ZLaF81-25</th>\n",
       "      <th>D-ZLaF85A</th>\n",
       "      <th>D-ZLaF85A-25</th>\n",
       "      <th>D-ZLaF85LN</th>\n",
       "      <th>D-ZLaF85LN-25</th>\n",
       "      <th>D-ZLaF85L</th>\n",
       "      <th>D-ZLaF85L-25</th>\n",
       "      <th>D-ZLaF85LS</th>\n",
       "      <th>D-ZLaF85LS-25</th>\n",
       "    </tr>\n",
       "    <tr>\n",
       "      <th>category</th>\n",
       "      <th>data item</th>\n",
       "      <th></th>\n",
       "      <th></th>\n",
       "      <th></th>\n",
       "      <th></th>\n",
       "      <th></th>\n",
       "      <th></th>\n",
       "      <th></th>\n",
       "      <th></th>\n",
       "      <th></th>\n",
       "      <th></th>\n",
       "      <th></th>\n",
       "      <th></th>\n",
       "      <th></th>\n",
       "      <th></th>\n",
       "      <th></th>\n",
       "      <th></th>\n",
       "      <th></th>\n",
       "      <th></th>\n",
       "      <th></th>\n",
       "      <th></th>\n",
       "      <th></th>\n",
       "    </tr>\n",
       "  </thead>\n",
       "  <tbody>\n",
       "    <tr>\n",
       "      <th>Code</th>\n",
       "      <th>NaN</th>\n",
       "      <td>550752</td>\n",
       "      <td>497816</td>\n",
       "      <td>497816</td>\n",
       "      <td>457903</td>\n",
       "      <td>438945</td>\n",
       "      <td>470669</td>\n",
       "      <td>487704</td>\n",
       "      <td>500621</td>\n",
       "      <td>500660</td>\n",
       "      <td>505647</td>\n",
       "      <td>...</td>\n",
       "      <td>809410</td>\n",
       "      <td>808410</td>\n",
       "      <td>852401</td>\n",
       "      <td>851401</td>\n",
       "      <td>846401</td>\n",
       "      <td>844401</td>\n",
       "      <td>854406</td>\n",
       "      <td>853405</td>\n",
       "      <td>855406</td>\n",
       "      <td>853406</td>\n",
       "    </tr>\n",
       "    <tr>\n",
       "      <th rowspan=\"4\" valign=\"top\">refractive indices</th>\n",
       "      <th>2325.42</th>\n",
       "      <td>1.530079</td>\n",
       "      <td>1.479611</td>\n",
       "      <td>1.479458</td>\n",
       "      <td>1.441501</td>\n",
       "      <td>1.423863</td>\n",
       "      <td>1.444945</td>\n",
       "      <td>1.46177</td>\n",
       "      <td>1.474764</td>\n",
       "      <td>1.473266</td>\n",
       "      <td>1.476253</td>\n",
       "      <td>...</td>\n",
       "      <td>1.76399</td>\n",
       "      <td>1.762815</td>\n",
       "      <td>1.805944</td>\n",
       "      <td>1.804873</td>\n",
       "      <td>1.799264</td>\n",
       "      <td>1.798167</td>\n",
       "      <td>1.807882</td>\n",
       "      <td>1.806838</td>\n",
       "      <td>1.808659</td>\n",
       "      <td>1.807637</td>\n",
       "    </tr>\n",
       "    <tr>\n",
       "      <th>1970.09</th>\n",
       "      <td>1.533622</td>\n",
       "      <td>1.482755</td>\n",
       "      <td>1.482653</td>\n",
       "      <td>1.444281</td>\n",
       "      <td>1.426473</td>\n",
       "      <td>1.450447</td>\n",
       "      <td>1.467372</td>\n",
       "      <td>1.479629</td>\n",
       "      <td>1.479079</td>\n",
       "      <td>1.482372</td>\n",
       "      <td>...</td>\n",
       "      <td>1.770858</td>\n",
       "      <td>1.76967</td>\n",
       "      <td>1.812655</td>\n",
       "      <td>1.811574</td>\n",
       "      <td>1.806095</td>\n",
       "      <td>1.804993</td>\n",
       "      <td>1.81451</td>\n",
       "      <td>1.813446</td>\n",
       "      <td>1.815292</td>\n",
       "      <td>1.814263</td>\n",
       "    </tr>\n",
       "    <tr>\n",
       "      <th>1529.58</th>\n",
       "      <td>1.53745</td>\n",
       "      <td>1.486141</td>\n",
       "      <td>1.486087</td>\n",
       "      <td>1.447265</td>\n",
       "      <td>1.429266</td>\n",
       "      <td>1.456108</td>\n",
       "      <td>1.473126</td>\n",
       "      <td>1.484741</td>\n",
       "      <td>1.485081</td>\n",
       "      <td>1.488675</td>\n",
       "      <td>...</td>\n",
       "      <td>1.778417</td>\n",
       "      <td>1.777214</td>\n",
       "      <td>1.820153</td>\n",
       "      <td>1.819058</td>\n",
       "      <td>1.813679</td>\n",
       "      <td>1.812563</td>\n",
       "      <td>1.821922</td>\n",
       "      <td>1.820846</td>\n",
       "      <td>1.822713</td>\n",
       "      <td>1.821675</td>\n",
       "    </tr>\n",
       "    <tr>\n",
       "      <th>1060.0</th>\n",
       "      <td>1.541548</td>\n",
       "      <td>1.489709</td>\n",
       "      <td>1.489691</td>\n",
       "      <td>1.450365</td>\n",
       "      <td>1.432152</td>\n",
       "      <td>1.461485</td>\n",
       "      <td>1.478559</td>\n",
       "      <td>1.489886</td>\n",
       "      <td>1.49081</td>\n",
       "      <td>1.49466</td>\n",
       "      <td>...</td>\n",
       "      <td>1.787155</td>\n",
       "      <td>1.78594</td>\n",
       "      <td>1.829105</td>\n",
       "      <td>1.827995</td>\n",
       "      <td>1.822643</td>\n",
       "      <td>1.821511</td>\n",
       "      <td>1.830786</td>\n",
       "      <td>1.829701</td>\n",
       "      <td>1.831582</td>\n",
       "      <td>1.830534</td>\n",
       "    </tr>\n",
       "    <tr>\n",
       "      <th>...</th>\n",
       "      <th>...</th>\n",
       "      <td>...</td>\n",
       "      <td>...</td>\n",
       "      <td>...</td>\n",
       "      <td>...</td>\n",
       "      <td>...</td>\n",
       "      <td>...</td>\n",
       "      <td>...</td>\n",
       "      <td>...</td>\n",
       "      <td>...</td>\n",
       "      <td>...</td>\n",
       "      <td>...</td>\n",
       "      <td>...</td>\n",
       "      <td>...</td>\n",
       "      <td>...</td>\n",
       "      <td>...</td>\n",
       "      <td>...</td>\n",
       "      <td>...</td>\n",
       "      <td>...</td>\n",
       "      <td>...</td>\n",
       "      <td>...</td>\n",
       "      <td>...</td>\n",
       "    </tr>\n",
       "    <tr>\n",
       "      <th>dn/dt relative(10-6/℃) for g</th>\n",
       "      <th>-60~-40</th>\n",
       "      <td>-5.4</td>\n",
       "      <td>-5.4</td>\n",
       "      <td>-5.0</td>\n",
       "      <td>-5.2</td>\n",
       "      <td>-5.1</td>\n",
       "      <td>0.1</td>\n",
       "      <td>-1.9</td>\n",
       "      <td>&lt;NA&gt;</td>\n",
       "      <td>3.3</td>\n",
       "      <td>2.8</td>\n",
       "      <td>...</td>\n",
       "      <td>7.9</td>\n",
       "      <td>7.9</td>\n",
       "      <td>&lt;NA&gt;</td>\n",
       "      <td>&lt;NA&gt;</td>\n",
       "      <td>7.5</td>\n",
       "      <td>7.5</td>\n",
       "      <td>7.9</td>\n",
       "      <td>7.9</td>\n",
       "      <td>&lt;NA&gt;</td>\n",
       "      <td>&lt;NA&gt;</td>\n",
       "    </tr>\n",
       "    <tr>\n",
       "      <th>Melt Frequency</th>\n",
       "      <th>NaN</th>\n",
       "      <td>C</td>\n",
       "      <td>MA</td>\n",
       "      <td>MA</td>\n",
       "      <td>A</td>\n",
       "      <td>A</td>\n",
       "      <td>D</td>\n",
       "      <td>MA</td>\n",
       "      <td>D</td>\n",
       "      <td>D</td>\n",
       "      <td>D</td>\n",
       "      <td>...</td>\n",
       "      <td>D</td>\n",
       "      <td>D</td>\n",
       "      <td>A</td>\n",
       "      <td>A</td>\n",
       "      <td>B</td>\n",
       "      <td>B</td>\n",
       "      <td>D</td>\n",
       "      <td>D</td>\n",
       "      <td>D</td>\n",
       "      <td>D</td>\n",
       "    </tr>\n",
       "    <tr>\n",
       "      <th>Relative Price</th>\n",
       "      <th>NaN</th>\n",
       "      <td>151</td>\n",
       "      <td>80</td>\n",
       "      <td>74</td>\n",
       "      <td>124</td>\n",
       "      <td>158</td>\n",
       "      <td>98</td>\n",
       "      <td>23</td>\n",
       "      <td>126</td>\n",
       "      <td>61</td>\n",
       "      <td>61</td>\n",
       "      <td>...</td>\n",
       "      <td>123</td>\n",
       "      <td>123</td>\n",
       "      <td>307</td>\n",
       "      <td>307</td>\n",
       "      <td>124</td>\n",
       "      <td>124</td>\n",
       "      <td>371</td>\n",
       "      <td>371</td>\n",
       "      <td>371</td>\n",
       "      <td>371</td>\n",
       "    </tr>\n",
       "    <tr>\n",
       "      <th>Glass</th>\n",
       "      <th>NaN</th>\n",
       "      <td>H-FK55</td>\n",
       "      <td>H-FK61</td>\n",
       "      <td>H-FK61B</td>\n",
       "      <td>H-FK71</td>\n",
       "      <td>H-FK95N</td>\n",
       "      <td>H-QK1</td>\n",
       "      <td>H-QK3L</td>\n",
       "      <td>H-K1</td>\n",
       "      <td>H-K2</td>\n",
       "      <td>H-K3</td>\n",
       "      <td>...</td>\n",
       "      <td>D-ZLaF81</td>\n",
       "      <td>D-ZLaF81-25</td>\n",
       "      <td>D-ZLaF85A</td>\n",
       "      <td>D-ZLaF85A-25</td>\n",
       "      <td>D-ZLaF85LN</td>\n",
       "      <td>D-ZLaF85LN-25</td>\n",
       "      <td>D-ZLaF85L</td>\n",
       "      <td>D-ZLaF85L-25</td>\n",
       "      <td>D-ZLaF85LS</td>\n",
       "      <td>D-ZLaF85LS-25</td>\n",
       "    </tr>\n",
       "    <tr>\n",
       "      <th>Remarks</th>\n",
       "      <th>NaN</th>\n",
       "      <td>&lt;NA&gt;</td>\n",
       "      <td>&lt;NA&gt;</td>\n",
       "      <td>&lt;NA&gt;</td>\n",
       "      <td>&lt;NA&gt;</td>\n",
       "      <td>&lt;NA&gt;</td>\n",
       "      <td>&lt;NA&gt;</td>\n",
       "      <td>&lt;NA&gt;</td>\n",
       "      <td>&lt;NA&gt;</td>\n",
       "      <td>&lt;NA&gt;</td>\n",
       "      <td>&lt;NA&gt;</td>\n",
       "      <td>...</td>\n",
       "      <td>anneal rate 4℃/h</td>\n",
       "      <td>anneal rate 25℃/h</td>\n",
       "      <td>anneal rate 4℃/h</td>\n",
       "      <td>anneal rate 25℃/h</td>\n",
       "      <td>anneal rate 4℃/h</td>\n",
       "      <td>anneal rate 25℃/h</td>\n",
       "      <td>anneal rate 4℃/h</td>\n",
       "      <td>anneal rate 25℃/h</td>\n",
       "      <td>anneal rate 4℃/h</td>\n",
       "      <td>anneal rate 25℃/h</td>\n",
       "    </tr>\n",
       "  </tbody>\n",
       "</table>\n",
       "<p>161 rows × 321 columns</p>\n",
       "</div>"
      ],
      "text/plain": [
       "glass                                     H-FK55    H-FK61   H-FK61B  \\\n",
       "category                     data item                                 \n",
       "Code                         NaN          550752    497816    497816   \n",
       "refractive indices           2325.42    1.530079  1.479611  1.479458   \n",
       "                             1970.09    1.533622  1.482755  1.482653   \n",
       "                             1529.58     1.53745  1.486141  1.486087   \n",
       "                             1060.0     1.541548  1.489709  1.489691   \n",
       "...                                          ...       ...       ...   \n",
       "dn/dt relative(10-6/℃) for g -60~-40        -5.4      -5.4      -5.0   \n",
       "Melt Frequency               NaN               C        MA        MA   \n",
       "Relative Price               NaN             151        80        74   \n",
       "Glass                        NaN          H-FK55    H-FK61   H-FK61B   \n",
       "Remarks                      NaN            <NA>      <NA>      <NA>   \n",
       "\n",
       "glass                                     H-FK71   H-FK95N     H-QK1  \\\n",
       "category                     data item                                 \n",
       "Code                         NaN          457903    438945    470669   \n",
       "refractive indices           2325.42    1.441501  1.423863  1.444945   \n",
       "                             1970.09    1.444281  1.426473  1.450447   \n",
       "                             1529.58    1.447265  1.429266  1.456108   \n",
       "                             1060.0     1.450365  1.432152  1.461485   \n",
       "...                                          ...       ...       ...   \n",
       "dn/dt relative(10-6/℃) for g -60~-40        -5.2      -5.1       0.1   \n",
       "Melt Frequency               NaN               A         A         D   \n",
       "Relative Price               NaN             124       158        98   \n",
       "Glass                        NaN          H-FK71   H-FK95N     H-QK1   \n",
       "Remarks                      NaN            <NA>      <NA>      <NA>   \n",
       "\n",
       "glass                                     H-QK3L      H-K1      H-K2  \\\n",
       "category                     data item                                 \n",
       "Code                         NaN          487704    500621    500660   \n",
       "refractive indices           2325.42     1.46177  1.474764  1.473266   \n",
       "                             1970.09    1.467372  1.479629  1.479079   \n",
       "                             1529.58    1.473126  1.484741  1.485081   \n",
       "                             1060.0     1.478559  1.489886   1.49081   \n",
       "...                                          ...       ...       ...   \n",
       "dn/dt relative(10-6/℃) for g -60~-40        -1.9      <NA>       3.3   \n",
       "Melt Frequency               NaN              MA         D         D   \n",
       "Relative Price               NaN              23       126        61   \n",
       "Glass                        NaN          H-QK3L      H-K1      H-K2   \n",
       "Remarks                      NaN            <NA>      <NA>      <NA>   \n",
       "\n",
       "glass                                       H-K3  ...          D-ZLaF81  \\\n",
       "category                     data item            ...                     \n",
       "Code                         NaN          505647  ...            809410   \n",
       "refractive indices           2325.42    1.476253  ...           1.76399   \n",
       "                             1970.09    1.482372  ...          1.770858   \n",
       "                             1529.58    1.488675  ...          1.778417   \n",
       "                             1060.0      1.49466  ...          1.787155   \n",
       "...                                          ...  ...               ...   \n",
       "dn/dt relative(10-6/℃) for g -60~-40         2.8  ...               7.9   \n",
       "Melt Frequency               NaN               D  ...                 D   \n",
       "Relative Price               NaN              61  ...               123   \n",
       "Glass                        NaN            H-K3  ...          D-ZLaF81   \n",
       "Remarks                      NaN            <NA>  ...  anneal rate 4℃/h   \n",
       "\n",
       "glass                                         D-ZLaF81-25         D-ZLaF85A  \\\n",
       "category                     data item                                        \n",
       "Code                         NaN                   808410            852401   \n",
       "refractive indices           2325.42             1.762815          1.805944   \n",
       "                             1970.09              1.76967          1.812655   \n",
       "                             1529.58             1.777214          1.820153   \n",
       "                             1060.0               1.78594          1.829105   \n",
       "...                                                   ...               ...   \n",
       "dn/dt relative(10-6/℃) for g -60~-40                  7.9              <NA>   \n",
       "Melt Frequency               NaN                        D                 A   \n",
       "Relative Price               NaN                      123               307   \n",
       "Glass                        NaN              D-ZLaF81-25         D-ZLaF85A   \n",
       "Remarks                      NaN        anneal rate 25℃/h  anneal rate 4℃/h   \n",
       "\n",
       "glass                                        D-ZLaF85A-25        D-ZLaF85LN  \\\n",
       "category                     data item                                        \n",
       "Code                         NaN                   851401            846401   \n",
       "refractive indices           2325.42             1.804873          1.799264   \n",
       "                             1970.09             1.811574          1.806095   \n",
       "                             1529.58             1.819058          1.813679   \n",
       "                             1060.0              1.827995          1.822643   \n",
       "...                                                   ...               ...   \n",
       "dn/dt relative(10-6/℃) for g -60~-40                 <NA>               7.5   \n",
       "Melt Frequency               NaN                        A                 B   \n",
       "Relative Price               NaN                      307               124   \n",
       "Glass                        NaN             D-ZLaF85A-25        D-ZLaF85LN   \n",
       "Remarks                      NaN        anneal rate 25℃/h  anneal rate 4℃/h   \n",
       "\n",
       "glass                                       D-ZLaF85LN-25         D-ZLaF85L  \\\n",
       "category                     data item                                        \n",
       "Code                         NaN                   844401            854406   \n",
       "refractive indices           2325.42             1.798167          1.807882   \n",
       "                             1970.09             1.804993           1.81451   \n",
       "                             1529.58             1.812563          1.821922   \n",
       "                             1060.0              1.821511          1.830786   \n",
       "...                                                   ...               ...   \n",
       "dn/dt relative(10-6/℃) for g -60~-40                  7.5               7.9   \n",
       "Melt Frequency               NaN                        B                 D   \n",
       "Relative Price               NaN                      124               371   \n",
       "Glass                        NaN            D-ZLaF85LN-25         D-ZLaF85L   \n",
       "Remarks                      NaN        anneal rate 25℃/h  anneal rate 4℃/h   \n",
       "\n",
       "glass                                        D-ZLaF85L-25        D-ZLaF85LS  \\\n",
       "category                     data item                                        \n",
       "Code                         NaN                   853405            855406   \n",
       "refractive indices           2325.42             1.806838          1.808659   \n",
       "                             1970.09             1.813446          1.815292   \n",
       "                             1529.58             1.820846          1.822713   \n",
       "                             1060.0              1.829701          1.831582   \n",
       "...                                                   ...               ...   \n",
       "dn/dt relative(10-6/℃) for g -60~-40                  7.9              <NA>   \n",
       "Melt Frequency               NaN                        D                 D   \n",
       "Relative Price               NaN                      371               371   \n",
       "Glass                        NaN             D-ZLaF85L-25        D-ZLaF85LS   \n",
       "Remarks                      NaN        anneal rate 25℃/h  anneal rate 4℃/h   \n",
       "\n",
       "glass                                       D-ZLaF85LS-25  \n",
       "category                     data item                     \n",
       "Code                         NaN                   853406  \n",
       "refractive indices           2325.42             1.807637  \n",
       "                             1970.09             1.814263  \n",
       "                             1529.58             1.821675  \n",
       "                             1060.0              1.830534  \n",
       "...                                                   ...  \n",
       "dn/dt relative(10-6/℃) for g -60~-40                 <NA>  \n",
       "Melt Frequency               NaN                        D  \n",
       "Relative Price               NaN                      371  \n",
       "Glass                        NaN            D-ZLaF85LS-25  \n",
       "Remarks                      NaN        anneal rate 25℃/h  \n",
       "\n",
       "[161 rows x 321 columns]"
      ]
     },
     "execution_count": 4,
     "metadata": {},
     "output_type": "execute_result"
    }
   ],
   "source": [
    "cat_df.T"
   ]
  },
  {
   "cell_type": "code",
   "execution_count": 5,
   "id": "global-description",
   "metadata": {},
   "outputs": [
    {
     "data": {
      "text/plain": [
       "False"
      ]
     },
     "execution_count": 5,
     "metadata": {},
     "output_type": "execute_result"
    }
   ],
   "source": [
    "cat_df.columns.has_duplicates"
   ]
  },
  {
   "cell_type": "code",
   "execution_count": 6,
   "id": "directed-indianapolis",
   "metadata": {},
   "outputs": [
    {
     "data": {
      "text/plain": [
       "Index(['Code', 'D0', 'D1', 'D2', 'E0', 'E1', 'Glass', 'Melt Frequency',\n",
       "       'P'C',s', 'P'd,C'', 'P'e,d', 'P'g,F'', 'P'i,h', 'P's,t', 'PC,s', 'Pd,C',\n",
       "       'Pe,d', 'Pg,F', 'Pi,h', 'Ps,t', 'Relative Price', 'Remarks',\n",
       "       'abbe number', 'chemical properties', 'dispersion coefficients',\n",
       "       'dn/dt relative(10-6/℃) for C'', 'dn/dt relative(10-6/℃) for F'',\n",
       "       'dn/dt relative(10-6/℃) for d', 'dn/dt relative(10-6/℃) for e',\n",
       "       'dn/dt relative(10-6/℃) for g', 'dn/dt relative(10-6/℃) for t',\n",
       "       'internal transmission mm, 10', 'mechanical properties', 'nF - nC',\n",
       "       'nF'- nC'', 'refractive indices', 'specific gravity',\n",
       "       'thermal properties', 'ΔPC,s', 'ΔPC,t', 'ΔPF,e', 'ΔPg,F', 'λ70 /λ5',\n",
       "       'λ80 /λ5', 'λTK(μm)', 'τ(5mm)'],\n",
       "      dtype='object', name='category')"
      ]
     },
     "execution_count": 6,
     "metadata": {},
     "output_type": "execute_result"
    }
   ],
   "source": [
    "cat_df.columns.levels[0]"
   ]
  },
  {
   "cell_type": "code",
   "execution_count": 7,
   "id": "lovely-still",
   "metadata": {},
   "outputs": [],
   "source": [
    "nd = cat_df['refractive indices']['d'].to_numpy(dtype=float)\n",
    "nF = cat_df['refractive indices']['F'].to_numpy(dtype=float)\n",
    "nC = cat_df['refractive indices']['C'].to_numpy(dtype=float)"
   ]
  },
  {
   "cell_type": "code",
   "execution_count": 8,
   "id": "elect-ordering",
   "metadata": {},
   "outputs": [],
   "source": [
    "nd, coefs = buchdahl.calc_buchdahl_coords(nd, nF, nC)"
   ]
  },
  {
   "cell_type": "code",
   "execution_count": 9,
   "id": "consolidated-mineral",
   "metadata": {},
   "outputs": [],
   "source": [
    "coefs /= np.array((nd - 1.0), dtype=float)"
   ]
  },
  {
   "cell_type": "code",
   "execution_count": 10,
   "id": "875052a9-244e-4ed8-bb6c-0998cc343568",
   "metadata": {},
   "outputs": [
    {
     "data": {
      "text/plain": [
       "321"
      ]
     },
     "execution_count": 10,
     "metadata": {},
     "output_type": "execute_result"
    }
   ],
   "source": [
    "len(nC)"
   ]
  },
  {
   "cell_type": "markdown",
   "id": "absolute-montreal",
   "metadata": {
    "tags": []
   },
   "source": [
    "## Test Series extracted from DataFrame"
   ]
  },
  {
   "cell_type": "code",
   "execution_count": 11,
   "id": "current-seven",
   "metadata": {},
   "outputs": [],
   "source": [
    "gla = cat_df.loc[gname]\n",
    "gla1 = cat_df.loc[gname4]"
   ]
  },
  {
   "cell_type": "code",
   "execution_count": 13,
   "id": "received-communist",
   "metadata": {},
   "outputs": [
    {
     "data": {
      "text/plain": [
       "data item\n",
       "K1      1.598681\n",
       "L1      0.012606\n",
       "K2      0.189449\n",
       "L2      0.061789\n",
       "K3      1.268702\n",
       "L3    121.376823\n",
       "A0          <NA>\n",
       "A1          <NA>\n",
       "A2          <NA>\n",
       "A3          <NA>\n",
       "A4          <NA>\n",
       "A5          <NA>\n",
       "Name: H-ZF11, dtype: object"
      ]
     },
     "execution_count": 13,
     "metadata": {},
     "output_type": "execute_result"
    }
   ],
   "source": [
    "gla['dispersion coefficients']"
   ]
  },
  {
   "cell_type": "code",
   "execution_count": 65,
   "id": "de2a2718-b410-48d5-a08e-589a3f60bb0e",
   "metadata": {},
   "outputs": [
    {
     "data": {
      "text/plain": [
       "True"
      ]
     },
     "execution_count": 65,
     "metadata": {},
     "output_type": "execute_result"
    }
   ],
   "source": [
    "pd.notna(gla['dispersion coefficients'].loc['K1'])"
   ]
  },
  {
   "cell_type": "code",
   "execution_count": 66,
   "id": "09c77b17-7876-4782-a889-82fafaeaccdb",
   "metadata": {},
   "outputs": [
    {
     "data": {
      "text/plain": [
       "False"
      ]
     },
     "execution_count": 66,
     "metadata": {},
     "output_type": "execute_result"
    }
   ],
   "source": [
    "pd.notna(gla['dispersion coefficients'].loc['A0'])"
   ]
  },
  {
   "cell_type": "code",
   "execution_count": null,
   "id": "c98d2b94-ffd5-4035-ba68-b01da1bd15d2",
   "metadata": {},
   "outputs": [],
   "source": []
  },
  {
   "cell_type": "code",
   "execution_count": 67,
   "id": "0c327c90-17f8-4064-bdbe-16965f58621f",
   "metadata": {},
   "outputs": [
    {
     "data": {
      "text/plain": [
       "pandas.core.series.Series"
      ]
     },
     "execution_count": 67,
     "metadata": {},
     "output_type": "execute_result"
    }
   ],
   "source": [
    "type(gla1)"
   ]
  },
  {
   "cell_type": "code",
   "execution_count": 68,
   "id": "22692e39-023e-4d21-94a3-8a14fc2b2029",
   "metadata": {},
   "outputs": [
    {
     "data": {
      "text/plain": [
       "data item\n",
       "K1        <NA>\n",
       "L1        <NA>\n",
       "K2        <NA>\n",
       "L2        <NA>\n",
       "K3        <NA>\n",
       "L3        <NA>\n",
       "A0    2.250184\n",
       "A1   -0.008941\n",
       "A2    0.011432\n",
       "A3   -0.000073\n",
       "A4    0.000035\n",
       "A5   -0.000002\n",
       "Name: H-K5, dtype: object"
      ]
     },
     "execution_count": 68,
     "metadata": {},
     "output_type": "execute_result"
    }
   ],
   "source": [
    "gla1['dispersion coefficients']"
   ]
  },
  {
   "cell_type": "code",
   "execution_count": 69,
   "id": "4941171e-a88d-4053-b53e-3cd9088d6d3a",
   "metadata": {},
   "outputs": [
    {
     "data": {
      "text/plain": [
       "False"
      ]
     },
     "execution_count": 69,
     "metadata": {},
     "output_type": "execute_result"
    }
   ],
   "source": [
    "pd.notna(gla1['dispersion coefficients'].loc['K1'])"
   ]
  },
  {
   "cell_type": "code",
   "execution_count": 70,
   "id": "5cbaf291-fb40-4ade-809c-a13bbcfe3f15",
   "metadata": {},
   "outputs": [
    {
     "data": {
      "text/plain": [
       "True"
      ]
     },
     "execution_count": 70,
     "metadata": {},
     "output_type": "execute_result"
    }
   ],
   "source": [
    "pd.notna(gla1['dispersion coefficients'].loc['A0'])"
   ]
  },
  {
   "cell_type": "code",
   "execution_count": 71,
   "id": "1e2f16aa-6e40-4865-8be8-38dbb15b615e",
   "metadata": {},
   "outputs": [],
   "source": [
    "def decode_dispersion_coefs(glas):\n",
    "    dispersion_coefs = glas['dispersion coefficients']\n",
    "    if pd.notna(dispersion_coefs.loc['K1']):\n",
    "        coefs = dispersion_coefs.loc['K1':'L3'].to_numpy(dtype=float)\n",
    "        interp_formula = \"sellmeier\"\n",
    "    else:  # pd.notna(glas['dispersion coefficients'].loc['A0'])\n",
    "        coefs = dispersion_coefs.loc['A0':'A5'].to_numpy(dtype=float)\n",
    "        interp_formula = \"schott\"\n",
    "\n",
    "    return coefs, interp_formula"
   ]
  },
  {
   "cell_type": "code",
   "execution_count": 72,
   "id": "c459e493-503a-4bf3-84fa-d87d2a02a193",
   "metadata": {},
   "outputs": [
    {
     "data": {
      "text/plain": [
       "(array([1.59868051e+00, 1.26057844e-02, 1.89448887e-01, 6.17894718e-02,\n",
       "        1.26870155e+00, 1.21376823e+02]),\n",
       " 'sellmeier')"
      ]
     },
     "execution_count": 72,
     "metadata": {},
     "output_type": "execute_result"
    }
   ],
   "source": [
    "decode_dispersion_coefs(gla)"
   ]
  },
  {
   "cell_type": "code",
   "execution_count": 73,
   "id": "758eabae-4fb1-4db2-b880-14bd6592381f",
   "metadata": {},
   "outputs": [
    {
     "data": {
      "text/plain": [
       "(array([ 2.25018356e+00, -8.94066156e-03,  1.14317829e-02, -7.33393278e-05,\n",
       "         3.49616695e-05, -1.80100775e-06]),\n",
       " 'schott')"
      ]
     },
     "execution_count": 73,
     "metadata": {},
     "output_type": "execute_result"
    }
   ],
   "source": [
    "decode_dispersion_coefs(gla1)"
   ]
  },
  {
   "cell_type": "code",
   "execution_count": null,
   "id": "610ca985-0fa8-406c-bbdb-f36930483f34",
   "metadata": {},
   "outputs": [],
   "source": []
  },
  {
   "cell_type": "code",
   "execution_count": null,
   "id": "f4755136-5cc3-4c13-959a-3d461868b292",
   "metadata": {},
   "outputs": [],
   "source": []
  },
  {
   "cell_type": "code",
   "execution_count": 74,
   "id": "rough-christian",
   "metadata": {
    "tags": []
   },
   "outputs": [
    {
     "data": {
      "text/plain": [
       "data item\n",
       "2400      0.838\n",
       "2200.0    0.889\n",
       "2000.0    0.945\n",
       "1800.0    0.968\n",
       "1600.0     0.99\n",
       "1400.0    0.993\n",
       "1200.0    0.998\n",
       "1060.0    0.998\n",
       "1000.0    0.998\n",
       "950.0     0.998\n",
       "900.0     0.998\n",
       "850.0     0.998\n",
       "800.0     0.998\n",
       "700.0     0.996\n",
       "650.0     0.996\n",
       "600.0     0.996\n",
       "550.0     0.994\n",
       "500.0      0.99\n",
       "480.0     0.988\n",
       "460.0     0.984\n",
       "440.0     0.978\n",
       "420.0     0.969\n",
       "400.0     0.932\n",
       "390.0     0.875\n",
       "380.0     0.725\n",
       "370.0     0.378\n",
       "360.0     0.034\n",
       "350.0      <NA>\n",
       "340.0      <NA>\n",
       "330.0      <NA>\n",
       "320.0      <NA>\n",
       "310.0      <NA>\n",
       "300.0      <NA>\n",
       "290.0      <NA>\n",
       "280.0       NaN\n",
       "Name: H-ZF11, dtype: object"
      ]
     },
     "execution_count": 74,
     "metadata": {},
     "output_type": "execute_result"
    }
   ],
   "source": [
    "cat_df.loc[gname]['internal transmission mm, 10']"
   ]
  },
  {
   "cell_type": "code",
   "execution_count": 75,
   "id": "stretch-basis",
   "metadata": {},
   "outputs": [
    {
     "data": {
      "text/plain": [
       "<NumpyExtensionArray>\n",
       "[np.float64(1.653752), np.float64(1.659667), np.float64(1.666431),\n",
       " np.float64(1.674944), np.float64(1.676081), np.float64(1.681178),\n",
       " np.float64(1.688512), np.float64(1.692201), np.float64(1.693253),\n",
       " np.float64(1.694243), np.float64(1.698738),  np.float64(1.69894),\n",
       " np.float64(1.704431),  np.float64(1.71546), np.float64(1.716881),\n",
       " np.float64(1.729483),    np.float64(1.742), np.float64(1.765684),\n",
       "                 <NA>,                 <NA>]\n",
       "Length: 20, dtype: object"
      ]
     },
     "execution_count": 75,
     "metadata": {},
     "output_type": "execute_result"
    }
   ],
   "source": [
    "cat_df.loc[gname]['refractive indices'].array"
   ]
  },
  {
   "cell_type": "code",
   "execution_count": 76,
   "id": "75411a76-d883-4e86-a878-db95cba8c198",
   "metadata": {},
   "outputs": [
    {
     "data": {
      "text/plain": [
       "Index(['2325.42', '1970.09', '1529.58', '1060.0', 't', 's', 'r', 'C', 'C'',\n",
       "       'He-Ne', 'D', 'd', 'e', 'F', 'F'', 'g', 'h', 'i', '313.18', '302.15'],\n",
       "      dtype='object', name='data item')"
      ]
     },
     "execution_count": 76,
     "metadata": {},
     "output_type": "execute_result"
    }
   ],
   "source": [
    "cat_df.loc[gname]['refractive indices'].index"
   ]
  },
  {
   "cell_type": "markdown",
   "id": "present-secretary",
   "metadata": {},
   "source": [
    "## Test factory method, create_glass"
   ]
  },
  {
   "cell_type": "code",
   "execution_count": 77,
   "id": "779507c1-58c3-4486-835e-982bcbdaa103",
   "metadata": {},
   "outputs": [
    {
     "data": {
      "text/plain": [
       "('D-ZLaF85L', 'CDGM')"
      ]
     },
     "execution_count": 77,
     "metadata": {},
     "output_type": "execute_result"
    }
   ],
   "source": [
    "gname2, catalog"
   ]
  },
  {
   "cell_type": "code",
   "execution_count": 78,
   "id": "wireless-convert",
   "metadata": {},
   "outputs": [],
   "source": [
    "gla2 = create_glass(gname2, catalog)"
   ]
  },
  {
   "cell_type": "code",
   "execution_count": 79,
   "id": "caring-mercury",
   "metadata": {},
   "outputs": [
    {
     "data": {
      "text/plain": [
       "Index(['2325.42', '1970.09', '1529.58', '1060.0', 't', 's', 'r', 'C', 'C'',\n",
       "       'He-Ne', 'D', 'd', 'e', 'F', 'F'', 'g', 'h', 'i', '313.18', '302.15'],\n",
       "      dtype='object', name='data item')"
      ]
     },
     "execution_count": 79,
     "metadata": {},
     "output_type": "execute_result"
    }
   ],
   "source": [
    "wvls = gla2.glass_data()['refractive indices'].index; wvls"
   ]
  },
  {
   "cell_type": "code",
   "execution_count": 80,
   "id": "fe0d0299-fa22-48e6-896e-395dc4e9f1a3",
   "metadata": {},
   "outputs": [],
   "source": [
    "wvls = wvls[4:-2]"
   ]
  },
  {
   "cell_type": "code",
   "execution_count": 81,
   "id": "exotic-judgment",
   "metadata": {},
   "outputs": [
    {
     "name": "stdout",
     "output_type": "stream",
     "text": [
      "t: 1.831927,  1.831927, -1.3e-07\n",
      "s: 1.83695,  1.836950, -4.8e-07\n",
      "r: 1.843982,  1.843982,  3.5e-07\n",
      "C: 1.847455,  1.847455,  8.1e-08\n",
      "C': 1.848438,  1.848438, -6.9e-08\n",
      "He-Ne: 1.84936,  1.849360,  2.9e-07\n",
      "D: 1.853515,  1.853515, -9.9e-08\n",
      "d: 1.8537,  1.853700,  4.4e-08\n",
      "e: 1.858699,  1.858699, -3.9e-07\n",
      "F: 1.868493,  1.868493, -1.6e-07\n",
      "F': 1.86973,  1.869730,  1.7e-07\n",
      "g: 1.880452,  1.880452, -3.3e-07\n",
      "h: 1.890629,  1.890629,  8.8e-08\n",
      "i: 1.908518,  1.908519,  5.7e-07\n"
     ]
    }
   ],
   "source": [
    "for w_str in wvls:\n",
    "    n_line = gla2.meas_rindex(w_str)\n",
    "    try:\n",
    "        n_intrp = gla2.rindex(w_str)\n",
    "    except KeyError:\n",
    "        print(f'{w_str}: {n_line}, no measured data')\n",
    "    else:\n",
    "        print(f'{w_str}: {n_line}, {n_intrp:9.6f}, {n_intrp-n_line:8.2g}')"
   ]
  },
  {
   "cell_type": "code",
   "execution_count": 82,
   "id": "gross-riding",
   "metadata": {},
   "outputs": [
    {
     "data": {
      "text/plain": [
       "<NumpyExtensionArray>\n",
       "[np.float64(1.831927),  np.float64(1.83695), np.float64(1.843982),\n",
       " np.float64(1.847455), np.float64(1.848438),  np.float64(1.84936),\n",
       " np.float64(1.853515),   np.float64(1.8537), np.float64(1.858699),\n",
       " np.float64(1.868493),  np.float64(1.86973), np.float64(1.880452),\n",
       " np.float64(1.890629), np.float64(1.908518)]\n",
       "Length: 14, dtype: object"
      ]
     },
     "execution_count": 82,
     "metadata": {},
     "output_type": "execute_result"
    }
   ],
   "source": [
    "gla2.meas_rindex(wvls).array"
   ]
  },
  {
   "cell_type": "code",
   "execution_count": 83,
   "id": "broadband-flesh",
   "metadata": {},
   "outputs": [
    {
     "data": {
      "text/plain": [
       "array([1.84843793, 1.84936029, 1.8535149 , 1.85370004, 1.85869861,\n",
       "       1.86849284, 1.86973017, 1.88045167])"
      ]
     },
     "execution_count": 83,
     "metadata": {},
     "output_type": "execute_result"
    }
   ],
   "source": [
    "gla2.rindex(wvls[4:-2])"
   ]
  },
  {
   "cell_type": "code",
   "execution_count": 84,
   "id": "agricultural-acting",
   "metadata": {},
   "outputs": [
    {
     "data": {
      "text/plain": [
       "<NumpyExtensionArray>\n",
       "[ np.float64(1.3261660636310069e-07),   np.float64(4.826590294104705e-07),\n",
       "  np.float64(-3.475699688060274e-07),  np.float64(-8.122045813685475e-08),\n",
       "   np.float64(6.858039647283931e-08), np.float64(-2.9140739221666934e-07),\n",
       "   np.float64(9.883907137187009e-08),   np.float64(-4.39173528654635e-08),\n",
       "  np.float64(3.8642454436299545e-07),  np.float64(1.5529491625976277e-07),\n",
       " np.float64(-1.7370021843099437e-07),  np.float64(3.3439356750264437e-07),\n",
       "  np.float64(-8.778562921030186e-08),  np.float64(-5.735073635992904e-07)]\n",
       "Length: 14, dtype: object"
      ]
     },
     "execution_count": 84,
     "metadata": {},
     "output_type": "execute_result"
    }
   ],
   "source": [
    "gla2.meas_rindex(wvls).array-gla2.rindex(wvls)"
   ]
  },
  {
   "cell_type": "code",
   "execution_count": 85,
   "id": "violent-particular",
   "metadata": {},
   "outputs": [
    {
     "data": {
      "text/plain": [
       "np.float64(2.95)"
      ]
     },
     "execution_count": 85,
     "metadata": {},
     "output_type": "execute_result"
    }
   ],
   "source": [
    "cat_df.loc[gname]['specific gravity']['d']"
   ]
  },
  {
   "cell_type": "code",
   "execution_count": 86,
   "id": "dimensional-wichita",
   "metadata": {},
   "outputs": [
    {
     "data": {
      "text/plain": [
       "data item\n",
       "DW       1\n",
       "DA       1\n",
       "CR       1\n",
       "RC(S)    2\n",
       "RA(S)    1\n",
       "Name: H-ZF11, dtype: object"
      ]
     },
     "execution_count": 86,
     "metadata": {},
     "output_type": "execute_result"
    }
   ],
   "source": [
    "cat_df.loc[gname]['chemical properties']"
   ]
  },
  {
   "cell_type": "code",
   "execution_count": 87,
   "id": "reduced-berlin",
   "metadata": {},
   "outputs": [
    {
     "data": {
      "text/plain": [
       "data item\n",
       "Tg(℃)                 576\n",
       "Ts(℃)                 613\n",
       "T1014.5(℃)            517\n",
       "T1013(℃)              551\n",
       "T107.6(℃)             672\n",
       "α-30/70℃(10-7/K)       90\n",
       "α100/300℃(10-7/K)     113\n",
       "λ[W/(m·K)]           <NA>\n",
       "Name: H-ZF11, dtype: object"
      ]
     },
     "execution_count": 87,
     "metadata": {},
     "output_type": "execute_result"
    }
   ],
   "source": [
    "cat_df.loc[gname]['thermal properties']"
   ]
  },
  {
   "cell_type": "code",
   "execution_count": 88,
   "id": "favorite-delta",
   "metadata": {},
   "outputs": [
    {
     "data": {
      "text/plain": [
       "data item\n",
       "HK(107Pa)        521\n",
       "FA               175\n",
       "E(107Pa)        8410\n",
       "G(107Pa)        3371\n",
       "μ              0.248\n",
       "B(10-12/Pa)     2.73\n",
       "Name: H-ZF11, dtype: object"
      ]
     },
     "execution_count": 88,
     "metadata": {},
     "output_type": "execute_result"
    }
   ],
   "source": [
    "cat_df.loc[gname]['mechanical properties']"
   ]
  },
  {
   "cell_type": "code",
   "execution_count": 89,
   "id": "given-cleanup",
   "metadata": {},
   "outputs": [
    {
     "data": {
      "text/plain": [
       "glass\n",
       "H-ZF11    521\n",
       "H-K9L     595\n",
       "Name: HK(107Pa), dtype: Int64"
      ]
     },
     "execution_count": 89,
     "metadata": {},
     "output_type": "execute_result"
    }
   ],
   "source": [
    "cat_df.loc[[gname, gname1]]['mechanical properties']['HK(107Pa)']"
   ]
  },
  {
   "cell_type": "code",
   "execution_count": 90,
   "id": "touched-attitude",
   "metadata": {},
   "outputs": [
    {
     "data": {
      "text/plain": [
       "data item\n",
       "2400      0.709\n",
       "2200.0    0.778\n",
       "2000.0    0.904\n",
       "1800.0    0.957\n",
       "1600.0    0.987\n",
       "1400.0    0.975\n",
       "1200.0    0.998\n",
       "1060.0    0.998\n",
       "1000.0    0.998\n",
       "950.0     0.998\n",
       "900.0     0.998\n",
       "850.0     0.998\n",
       "800.0     0.998\n",
       "700.0     0.997\n",
       "650.0     0.997\n",
       "600.0     0.997\n",
       "550.0     0.997\n",
       "500.0     0.997\n",
       "480.0     0.997\n",
       "460.0     0.997\n",
       "440.0     0.997\n",
       "420.0     0.997\n",
       "400.0     0.997\n",
       "390.0     0.996\n",
       "380.0     0.995\n",
       "370.0     0.995\n",
       "360.0     0.992\n",
       "350.0     0.982\n",
       "340.0     0.974\n",
       "330.0     0.951\n",
       "320.0     0.894\n",
       "310.0     0.776\n",
       "300.0     0.557\n",
       "290.0     0.275\n",
       "280.0       NaN\n",
       "Name: H-K9L, dtype: object"
      ]
     },
     "execution_count": 90,
     "metadata": {},
     "output_type": "execute_result"
    }
   ],
   "source": [
    "cat_df.loc[gname1]['internal transmission mm, 10']"
   ]
  },
  {
   "cell_type": "code",
   "execution_count": 91,
   "id": "mathematical-vienna",
   "metadata": {},
   "outputs": [
    {
     "data": {
      "text/plain": [
       "<FloatingArray>\n",
       "[ 1.5502,   1.497,   1.497,  1.4565,  1.4378, 1.47047, 1.48749, 1.49967,\n",
       " 1.50047, 1.50463,\n",
       " ...\n",
       "  1.8088, 1.80757, 1.85222,  1.8511, 1.84558, 1.84443,  1.8537,  1.8526,\n",
       "  1.8545, 1.85344]\n",
       "Length: 321, dtype: Float64"
      ]
     },
     "execution_count": 91,
     "metadata": {},
     "output_type": "execute_result"
    }
   ],
   "source": [
    "cat_df['refractive indices']['d'].array"
   ]
  },
  {
   "cell_type": "code",
   "execution_count": 92,
   "id": "numerical-bible",
   "metadata": {},
   "outputs": [
    {
     "data": {
      "text/html": [
       "<div>\n",
       "<style scoped>\n",
       "    .dataframe tbody tr th:only-of-type {\n",
       "        vertical-align: middle;\n",
       "    }\n",
       "\n",
       "    .dataframe tbody tr th {\n",
       "        vertical-align: top;\n",
       "    }\n",
       "\n",
       "    .dataframe thead th {\n",
       "        text-align: right;\n",
       "    }\n",
       "</style>\n",
       "<table border=\"1\" class=\"dataframe\">\n",
       "  <thead>\n",
       "    <tr style=\"text-align: right;\">\n",
       "      <th>glass</th>\n",
       "      <th>H-ZF11</th>\n",
       "      <th>H-K9L</th>\n",
       "    </tr>\n",
       "    <tr>\n",
       "      <th>data item</th>\n",
       "      <th></th>\n",
       "      <th></th>\n",
       "    </tr>\n",
       "  </thead>\n",
       "  <tbody>\n",
       "    <tr>\n",
       "      <th>2400</th>\n",
       "      <td>0.838</td>\n",
       "      <td>0.709</td>\n",
       "    </tr>\n",
       "    <tr>\n",
       "      <th>2200.0</th>\n",
       "      <td>0.889</td>\n",
       "      <td>0.778</td>\n",
       "    </tr>\n",
       "    <tr>\n",
       "      <th>2000.0</th>\n",
       "      <td>0.945</td>\n",
       "      <td>0.904</td>\n",
       "    </tr>\n",
       "    <tr>\n",
       "      <th>1800.0</th>\n",
       "      <td>0.968</td>\n",
       "      <td>0.957</td>\n",
       "    </tr>\n",
       "    <tr>\n",
       "      <th>1600.0</th>\n",
       "      <td>0.99</td>\n",
       "      <td>0.987</td>\n",
       "    </tr>\n",
       "    <tr>\n",
       "      <th>1400.0</th>\n",
       "      <td>0.993</td>\n",
       "      <td>0.975</td>\n",
       "    </tr>\n",
       "    <tr>\n",
       "      <th>1200.0</th>\n",
       "      <td>0.998</td>\n",
       "      <td>0.998</td>\n",
       "    </tr>\n",
       "    <tr>\n",
       "      <th>1060.0</th>\n",
       "      <td>0.998</td>\n",
       "      <td>0.998</td>\n",
       "    </tr>\n",
       "    <tr>\n",
       "      <th>1000.0</th>\n",
       "      <td>0.998</td>\n",
       "      <td>0.998</td>\n",
       "    </tr>\n",
       "    <tr>\n",
       "      <th>950.0</th>\n",
       "      <td>0.998</td>\n",
       "      <td>0.998</td>\n",
       "    </tr>\n",
       "    <tr>\n",
       "      <th>900.0</th>\n",
       "      <td>0.998</td>\n",
       "      <td>0.998</td>\n",
       "    </tr>\n",
       "    <tr>\n",
       "      <th>850.0</th>\n",
       "      <td>0.998</td>\n",
       "      <td>0.998</td>\n",
       "    </tr>\n",
       "    <tr>\n",
       "      <th>800.0</th>\n",
       "      <td>0.998</td>\n",
       "      <td>0.998</td>\n",
       "    </tr>\n",
       "    <tr>\n",
       "      <th>700.0</th>\n",
       "      <td>0.996</td>\n",
       "      <td>0.997</td>\n",
       "    </tr>\n",
       "    <tr>\n",
       "      <th>650.0</th>\n",
       "      <td>0.996</td>\n",
       "      <td>0.997</td>\n",
       "    </tr>\n",
       "    <tr>\n",
       "      <th>600.0</th>\n",
       "      <td>0.996</td>\n",
       "      <td>0.997</td>\n",
       "    </tr>\n",
       "    <tr>\n",
       "      <th>550.0</th>\n",
       "      <td>0.994</td>\n",
       "      <td>0.997</td>\n",
       "    </tr>\n",
       "    <tr>\n",
       "      <th>500.0</th>\n",
       "      <td>0.99</td>\n",
       "      <td>0.997</td>\n",
       "    </tr>\n",
       "    <tr>\n",
       "      <th>480.0</th>\n",
       "      <td>0.988</td>\n",
       "      <td>0.997</td>\n",
       "    </tr>\n",
       "    <tr>\n",
       "      <th>460.0</th>\n",
       "      <td>0.984</td>\n",
       "      <td>0.997</td>\n",
       "    </tr>\n",
       "    <tr>\n",
       "      <th>440.0</th>\n",
       "      <td>0.978</td>\n",
       "      <td>0.997</td>\n",
       "    </tr>\n",
       "    <tr>\n",
       "      <th>420.0</th>\n",
       "      <td>0.969</td>\n",
       "      <td>0.997</td>\n",
       "    </tr>\n",
       "    <tr>\n",
       "      <th>400.0</th>\n",
       "      <td>0.932</td>\n",
       "      <td>0.997</td>\n",
       "    </tr>\n",
       "    <tr>\n",
       "      <th>390.0</th>\n",
       "      <td>0.875</td>\n",
       "      <td>0.996</td>\n",
       "    </tr>\n",
       "    <tr>\n",
       "      <th>380.0</th>\n",
       "      <td>0.725</td>\n",
       "      <td>0.995</td>\n",
       "    </tr>\n",
       "    <tr>\n",
       "      <th>370.0</th>\n",
       "      <td>0.378</td>\n",
       "      <td>0.995</td>\n",
       "    </tr>\n",
       "    <tr>\n",
       "      <th>360.0</th>\n",
       "      <td>0.034</td>\n",
       "      <td>0.992</td>\n",
       "    </tr>\n",
       "    <tr>\n",
       "      <th>350.0</th>\n",
       "      <td>&lt;NA&gt;</td>\n",
       "      <td>0.982</td>\n",
       "    </tr>\n",
       "    <tr>\n",
       "      <th>340.0</th>\n",
       "      <td>&lt;NA&gt;</td>\n",
       "      <td>0.974</td>\n",
       "    </tr>\n",
       "    <tr>\n",
       "      <th>330.0</th>\n",
       "      <td>&lt;NA&gt;</td>\n",
       "      <td>0.951</td>\n",
       "    </tr>\n",
       "    <tr>\n",
       "      <th>320.0</th>\n",
       "      <td>&lt;NA&gt;</td>\n",
       "      <td>0.894</td>\n",
       "    </tr>\n",
       "    <tr>\n",
       "      <th>310.0</th>\n",
       "      <td>&lt;NA&gt;</td>\n",
       "      <td>0.776</td>\n",
       "    </tr>\n",
       "    <tr>\n",
       "      <th>300.0</th>\n",
       "      <td>&lt;NA&gt;</td>\n",
       "      <td>0.557</td>\n",
       "    </tr>\n",
       "    <tr>\n",
       "      <th>290.0</th>\n",
       "      <td>&lt;NA&gt;</td>\n",
       "      <td>0.275</td>\n",
       "    </tr>\n",
       "    <tr>\n",
       "      <th>280.0</th>\n",
       "      <td>NaN</td>\n",
       "      <td>NaN</td>\n",
       "    </tr>\n",
       "  </tbody>\n",
       "</table>\n",
       "</div>"
      ],
      "text/plain": [
       "glass     H-ZF11  H-K9L\n",
       "data item              \n",
       "2400       0.838  0.709\n",
       "2200.0     0.889  0.778\n",
       "2000.0     0.945  0.904\n",
       "1800.0     0.968  0.957\n",
       "1600.0      0.99  0.987\n",
       "1400.0     0.993  0.975\n",
       "1200.0     0.998  0.998\n",
       "1060.0     0.998  0.998\n",
       "1000.0     0.998  0.998\n",
       "950.0      0.998  0.998\n",
       "900.0      0.998  0.998\n",
       "850.0      0.998  0.998\n",
       "800.0      0.998  0.998\n",
       "700.0      0.996  0.997\n",
       "650.0      0.996  0.997\n",
       "600.0      0.996  0.997\n",
       "550.0      0.994  0.997\n",
       "500.0       0.99  0.997\n",
       "480.0      0.988  0.997\n",
       "460.0      0.984  0.997\n",
       "440.0      0.978  0.997\n",
       "420.0      0.969  0.997\n",
       "400.0      0.932  0.997\n",
       "390.0      0.875  0.996\n",
       "380.0      0.725  0.995\n",
       "370.0      0.378  0.995\n",
       "360.0      0.034  0.992\n",
       "350.0       <NA>  0.982\n",
       "340.0       <NA>  0.974\n",
       "330.0       <NA>  0.951\n",
       "320.0       <NA>  0.894\n",
       "310.0       <NA>  0.776\n",
       "300.0       <NA>  0.557\n",
       "290.0       <NA>  0.275\n",
       "280.0        NaN    NaN"
      ]
     },
     "execution_count": 92,
     "metadata": {},
     "output_type": "execute_result"
    }
   ],
   "source": [
    "trns_data = cat_df.loc[[gname, gname1]]['internal transmission mm, 10'].T; trns_data"
   ]
  },
  {
   "cell_type": "code",
   "execution_count": 93,
   "id": "confidential-wheel",
   "metadata": {},
   "outputs": [
    {
     "data": {
      "text/plain": [
       "<Axes: xlabel='data item'>"
      ]
     },
     "execution_count": 93,
     "metadata": {},
     "output_type": "execute_result"
    },
    {
     "data": {
      "image/png": "[encoded data removed]",
      "text/plain": [
       "<Figure size 640x480 with 1 Axes>"
      ]
     },
     "metadata": {},
     "output_type": "display_data"
    }
   ],
   "source": [
    "trns_data.plot()"
   ]
  },
  {
   "cell_type": "code",
   "execution_count": 94,
   "id": "seasonal-specific",
   "metadata": {},
   "outputs": [
    {
     "data": {
      "text/plain": [
       "<Axes: xlabel='data item'>"
      ]
     },
     "execution_count": 94,
     "metadata": {},
     "output_type": "execute_result"
    },
    {
     "data": {
      "image/png": "[encoded data removed]",
      "text/plain": [
       "<Figure size 640x480 with 1 Axes>"
      ]
     },
     "metadata": {},
     "output_type": "display_data"
    }
   ],
   "source": [
    "cat_df['internal transmission mm, 10'].T.plot(legend=False)"
   ]
  },
  {
   "cell_type": "code",
   "execution_count": 95,
   "id": "impressive-appointment",
   "metadata": {},
   "outputs": [],
   "source": [
    "gla_v2 = cdgm.CDGMGlass(gname)"
   ]
  },
  {
   "cell_type": "code",
   "execution_count": 96,
   "id": "palestinian-pregnancy",
   "metadata": {},
   "outputs": [
    {
     "data": {
      "text/plain": [
       "np.float64(1.71546)"
      ]
     },
     "execution_count": 96,
     "metadata": {},
     "output_type": "execute_result"
    }
   ],
   "source": [
    "gla_v2.meas_rindex('F')"
   ]
  },
  {
   "cell_type": "code",
   "execution_count": 97,
   "id": "matched-exposure",
   "metadata": {},
   "outputs": [
    {
     "data": {
      "text/plain": [
       "'699.3'"
      ]
     },
     "execution_count": 97,
     "metadata": {},
     "output_type": "execute_result"
    }
   ],
   "source": [
    "gla_v2.glass_code()"
   ]
  },
  {
   "cell_type": "code",
   "execution_count": 98,
   "id": "deluxe-kazakhstan",
   "metadata": {},
   "outputs": [
    {
     "data": {
      "text/plain": [
       "(array([2400., 2200., 2000., 1800., 1600., 1400., 1200., 1060., 1000.,\n",
       "         950.,  900.,  850.,  800.,  700.,  650.,  600.,  550.,  500.,\n",
       "         480.,  460.,  440.,  420.,  400.,  390.,  380.,  370.,  360.,\n",
       "         350.,  340.,  330.,  320.,  310.,  300.,  290.,  280.]),\n",
       " array([0.838, 0.889, 0.945, 0.968, 0.99 , 0.993, 0.998, 0.998, 0.998,\n",
       "        0.998, 0.998, 0.998, 0.998, 0.996, 0.996, 0.996, 0.994, 0.99 ,\n",
       "        0.988, 0.984, 0.978, 0.969, 0.932, 0.875, 0.725, 0.378, 0.034,\n",
       "        0.   , 0.   , 0.   , 0.   , 0.   , 0.   , 0.   , 0.   ]))"
      ]
     },
     "execution_count": 98,
     "metadata": {},
     "output_type": "execute_result"
    }
   ],
   "source": [
    "gla_v2.transmission_data()"
   ]
  },
  {
   "cell_type": "code",
   "execution_count": 99,
   "id": "basic-forge",
   "metadata": {},
   "outputs": [
    {
     "data": {
      "text/plain": [
       "data item\n",
       "2400      0.838\n",
       "2200.0    0.889\n",
       "2000.0    0.945\n",
       "1800.0    0.968\n",
       "1600.0     0.99\n",
       "1400.0    0.993\n",
       "1200.0    0.998\n",
       "1060.0    0.998\n",
       "1000.0    0.998\n",
       "950.0     0.998\n",
       "900.0     0.998\n",
       "850.0     0.998\n",
       "800.0     0.998\n",
       "700.0     0.996\n",
       "650.0     0.996\n",
       "600.0     0.996\n",
       "550.0     0.994\n",
       "500.0      0.99\n",
       "480.0     0.988\n",
       "460.0     0.984\n",
       "440.0     0.978\n",
       "420.0     0.969\n",
       "400.0     0.932\n",
       "390.0     0.875\n",
       "380.0     0.725\n",
       "370.0     0.378\n",
       "360.0     0.034\n",
       "350.0      <NA>\n",
       "340.0      <NA>\n",
       "330.0      <NA>\n",
       "320.0      <NA>\n",
       "310.0      <NA>\n",
       "300.0      <NA>\n",
       "290.0      <NA>\n",
       "280.0       NaN\n",
       "Name: H-ZF11, dtype: object"
      ]
     },
     "execution_count": 99,
     "metadata": {},
     "output_type": "execute_result"
    }
   ],
   "source": [
    "gla_v2.glass_data()['internal transmission mm, 10']"
   ]
  },
  {
   "cell_type": "code",
   "execution_count": 100,
   "id": "heavy-basics",
   "metadata": {},
   "outputs": [
    {
     "data": {
      "text/plain": [
       "np.float64(0.838)"
      ]
     },
     "execution_count": 100,
     "metadata": {},
     "output_type": "execute_result"
    }
   ],
   "source": [
    "gla_v2.glass_data()['internal transmission mm, 10'][2400.0]"
   ]
  },
  {
   "cell_type": "code",
   "execution_count": 101,
   "id": "injured-adapter",
   "metadata": {},
   "outputs": [
    {
     "data": {
      "text/plain": [
       "35"
      ]
     },
     "execution_count": 101,
     "metadata": {},
     "output_type": "execute_result"
    }
   ],
   "source": [
    "len(gla_v2.glass_data()['internal transmission mm, 10'])"
   ]
  },
  {
   "cell_type": "code",
   "execution_count": 102,
   "id": "comprehensive-handling",
   "metadata": {},
   "outputs": [
    {
     "data": {
      "text/plain": [
       "array([0.838, 0.889, 0.945, 0.968, 0.99 , 0.993, 0.998, 0.998, 0.998,\n",
       "       0.998, 0.998, 0.998, 0.998, 0.996, 0.996, 0.996, 0.994, 0.99 ,\n",
       "       0.988, 0.984, 0.978, 0.969, 0.932, 0.875, 0.725, 0.378, 0.034,\n",
       "         nan,   nan,   nan,   nan,   nan,   nan,   nan,   nan])"
      ]
     },
     "execution_count": 102,
     "metadata": {},
     "output_type": "execute_result"
    }
   ],
   "source": [
    "gla_v2.glass_data()['internal transmission mm, 10'].to_numpy(dtype=float, na_value=None)"
   ]
  },
  {
   "cell_type": "code",
   "execution_count": null,
   "id": "digital-shopper",
   "metadata": {},
   "outputs": [],
   "source": []
  },
  {
   "cell_type": "code",
   "execution_count": null,
   "id": "ed18c33d-5801-4133-81c0-8b22839c7c5e",
   "metadata": {},
   "outputs": [],
   "source": []
  }
 ],
 "metadata": {
  "kernelspec": {
   "display_name": "Python 3 (ipykernel)",
   "language": "python",
   "name": "python3"
  },
  "language_info": {
   "codemirror_mode": {
    "name": "ipython",
    "version": 3
   },
   "file_extension": ".py",
   "mimetype": "text/x-python",
   "name": "python",
   "nbconvert_exporter": "python",
   "pygments_lexer": "ipython3",
   "version": "3.12.7"
  }
 },
 "nbformat": 4,
 "nbformat_minor": 5
}
